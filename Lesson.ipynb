{
  "cells": [
    {
      "cell_type": "markdown",
      "metadata": {
        "id": "siXj7jk7g8jX"
      },
      "source": [
        "# Multiprocessing\n",
        "\n",
        "Or writing programs to use multiple processor cores"
      ]
    },
    {
      "cell_type": "markdown",
      "metadata": {
        "id": "P2IzDE2Pg8jZ"
      },
      "source": [
        "### This lesson is based on notes from [sebastianraschka.com](http://sebastianraschka.com/Articles/2014_multiprocessing.html)\n",
        "\n",
        "What actually happens when you run code, or execute a program on a computer? If we focus on Python, what happens when we run Python code? Does our computer \"speak Python\", understand what we type, and do what we ask?\n",
        "\n",
        "It turns out that no, our computer does NOT speak Python. When we execute Python code, our code is passed to an **interpreter**. This interpreter is what reads our code and translates what we have written into what is called **machine code**. Machine code is typically not human-readable. That's the reason we have languages like Python, R, C++, Java, etc. We need a way to express logic clearly and explicitly, so that it can be translated into the kind of code that our computer DOES understand.\n",
        "\n",
        "So far, human speech (or written human language) does not translate directly to machine code.\n",
        "\n",
        "But what actually happens once we write our code, and the computer starts to run that code? We can understand the basics of this process through the following six (simplified!) steps:\n",
        "\n",
        "1) The computer allocates memory to the program\n",
        "2) The program issues a series of instructions to the processor (the thinking part of the computer)\n",
        "3) Upon completion of one instruction by the processor, the next is started\n",
        "4) Information is returned from the processor to the program as needed\n",
        "5) New instructions are sent to the processor based on information received from the processor\n",
        "6) Return to step 2, repeat until program is finished\n",
        "\n",
        "\n",
        "When a program is running, it typically has a single space in memory in which it stores all information relevant to its task. This memory space allows the information to be used by whichever part of the program requires that information to use it. Basically, think of all of the things in memory as shared assets, and different parts of the program want to be able to access them at the same time. Kind of like if you share a storage space with a friend or family member. Sometimes you'll be pulling out the camping gear, and sometimes they will be instead.\n",
        "\n",
        "Information that is accessible across the entire program are called **globally defined values**. But not all variables are global. Some variables with reduced **scope** are not available to all segments of a program. You might have valuables that you don't share with the other people using your storage space. It's kind of like that. Variables with reduced scope are only available to parts of the program that share that scope.\n",
        "\n",
        "While for people, we restrict access primarily based on keeping valuables safe, programs tend to do it in order to ensure that information is not lost or modified while it is needed by a part of the program. You wouldn't want to have someone change your budgeting spreadsheet in the middle of the month, would you?\n",
        "\n",
        "Again, **scope** is a term used to define the areas in which a given value in memory is accessible. Variables that are **Global** in scope can typically be accessed by any function or command running as part of the program. Variables that are **Local** can only be accessed within the scope in which they are defined. A variable created inside a function is said to be **local** to that function, and only available until the function is concluded. Then it is either returned to the global space, or forgotten.\n"
      ]
    },
    {
      "cell_type": "markdown",
      "metadata": {
        "id": "d1p8Qrw6g8ja"
      },
      "source": [
        "\n",
        "![](https://github.com/dustywhite7/Econ8320/blob/master/SlidesCode/serialParallel.png?raw=true)\n",
        "\n",
        "One of the single biggest changes in computational technology in the recent past was the advent and spread of parallel computation. This concept is the crux of this lesson, but needs a lot of explaining, because it isn't something that we as computer USERS have to deal with. It happens behind the scenes, despite its tremendous importance.\n",
        "\n",
        "### Sequential programs\n",
        "\n",
        "When we perform tasks, some steps must be performed sequentially. This happens because one task depends on the results of the other task. For example, an American football team will only make a play on fourth down if they fail to score or convert on third down. We can't fully implement our plan for fourth down until we have seen whether or not fourth down will occur.\n",
        "\n",
        "We need to aim our penalty shot in FIFA before taking the kick. We even need to wait to complete the details for the elimination rounds of the tournament until group play has ended. Until then, we don't know enough about which teams will advance to complete the bracket.\n",
        "\n",
        "In programming speak, sequential programs are sequential because it is critical that the results of one calculation be within the **scope** of the other calculations. If one sequential calculation cannot view the results of the prior calculation, then the second function cannot be completed.\n",
        "\n",
        "### Parallel Programs\n",
        "\n",
        "On the other hand, some calculations can be performed independent of the results of other steps. These tend to be calculations that can essentially be considered separate tasks, but part of a larger overall task. Some examples include\n",
        "\n",
        "- Batch processing of files\n",
        "- Non-sequential simulations\n",
        "- Serving recommended products to many users\n",
        "- Repeated random draws\n",
        "- Rendering polygons\n",
        "\n",
        "The key difference between serial and parallel programs is the dependency (or lack of dependency) of calculations on the results of previous calculations.\n",
        "\n",
        "- Serial programs rely on previous results\n",
        "- Parallel programs do not depend on the results of other calculations\n",
        "\n",
        "Parallel programs can occur simultaneously, allowing us to accelerate execution. If we can run four calculations simultaneously, then in theory we might be able to run 100 computations in the time that a serial program might run 25 similar computations.\n",
        "\n",
        "Parallel computations have enabled advances like improved graphics in video games, and have made possible the revolution in machine learning. Let's learn how to make parallel code work for our projects, as well!\n"
      ]
    },
    {
      "cell_type": "markdown",
      "metadata": {
        "id": "5FAJ-epEg8jb"
      },
      "source": [
        "One place where parallel processing really shines is in estimating complex mathematical calculations. While some math can be solved algebraically, other math problems can only be solved computationally. The more computations we can perform in a given amount of time, the sooner we can find the solution to those problems. We can buy faster computers to speed up calculations, but we can also parallelize many calculations, giving us benefits without having to upgrade our computer!\n",
        "\n",
        "Some examples in which we will typically solve math problems with computation:\n",
        "- Estimating Producer/Consumer Surplus\n",
        "- Calculating probabilities from frequency tables\n",
        "- Integrating on complicated functional forms\n",
        "\n",
        "### Numeric Integration\n",
        "\n",
        "Often, when integrating complicated functions, there is no **algebraic** solution to the integral. This means that we need to estimate the value of the integral **numerically**. The process that we follow to estimate an integral numerically follows:\n",
        "\n",
        "1) Choose points at which to estimate the value of the function\n",
        "2) Choose bandwidth\n",
        "3) Multiply function values by bandwidth\n",
        "4) Add all estimates to calculate approximate integral\n",
        "\n",
        "![](https://github.com/dustywhite7/Econ8320/blob/master/SlidesCode/integralProcess.png?raw=true)\n",
        "\n",
        "Let's start by just defining a function to integrate. We can use\n",
        "\n",
        "$$ f(x) = \\frac{1}{1+x^2} $$\n",
        "\n",
        "as our example function. First, we need to write this function as a Python function:"
      ]
    },
    {
      "cell_type": "code",
      "execution_count": null,
      "metadata": {
        "colab": {
          "base_uri": "https://localhost:8080/"
        },
        "id": "JReQwUzng8jb",
        "outputId": "eff5d70d-bf47-4fe3-b568-cba1f5422349"
      },
      "outputs": [
        {
          "output_type": "execute_result",
          "data": {
            "text/plain": [
              "0.7765826751821746"
            ]
          },
          "metadata": {},
          "execution_count": 9
        }
      ],
      "source": [
        "import numpy as np\n",
        "import multiprocessing as mp\n",
        "\n",
        "# define any function here!\n",
        "def f(x):\n",
        "    # return the value of the function given x\n",
        "    return 1/(1 + x**2)\n",
        "\n",
        "def integral(nSample, f, xmin, xmax):\n",
        "  # determine points of estimation\n",
        "  sample = np.sort(np.random.uniform(xmin, xmax, nSample))\n",
        "  # Calculate height at each point\n",
        "  value = f(sample)\n",
        "  # Calculate areas, sum\n",
        "  area = np.sum(np.diff(sample) * value[1:])\n",
        "  # Return integral\n",
        "  return (nSample, area)\n",
        "\n",
        "def serial_average(n_bins, n_reps, f, xmin, xmax):\n",
        "  attempts = [integral(n_bins, f, xmin, xmax)[1] for i in range(n_reps)]\n",
        "  return sum(attempts)/n_reps\n",
        "\n",
        "serial_average(200, 100, f, 0, 1)"
      ]
    },
    {
      "cell_type": "markdown",
      "metadata": {
        "id": "q-HUuU1Yg8jc"
      },
      "source": [
        "Now, we need to write a function that can sample from our function, and calculate the area of the sampled rectangles, and then return an approximate area."
      ]
    },
    {
      "cell_type": "code",
      "execution_count": null,
      "metadata": {
        "id": "QRkZLgi1g8jc"
      },
      "outputs": [],
      "source": [
        "import random\n",
        "\n",
        "def serial_integral(nSample, f, xmin, xmax):\n",
        "  # determine points of estimation\n",
        "  sample = sorted([random.uniform(xmin, xmax) for i in range(nSample)])\n",
        "  # Calculate height at each point\n",
        "  value = [f(i) for i in sample]\n",
        "  # Calculate areas of rectangles\n",
        "  # We have to specially calculate the first rectangle,\n",
        "  #   because xmin is not part of our list of samples\n",
        "  area = [(sample[0]-xmin)*value[0]] +\n",
        "    [(sample[i]-sample[i-1])*value[i] for i in range(1, len(sample))]\n",
        "  # Return sum as an approximate integral\n",
        "  return sum(area)"
      ]
    },
    {
      "cell_type": "markdown",
      "metadata": {
        "id": "lFJy-Hkmg8jc"
      },
      "source": [
        "This is our function for actually integrating a function `f` from `xmin` to `xmax` across `nSample` random intervals. Below is a picture of how this function gets (approximately) closer to estimating the true integral value as we increase the number of points at which we sample the function. Because integration is based on randomly drawn intervals, the convergence is not smooth. If we took many integrals at each bin number, however, we would expect this plot to become smooth.\n",
        "\n",
        "![](https://github.com/dustywhite7/Econ8320/blob/master/SlidesCode/integral.png?raw=true)\n",
        "\n",
        "### Parallel calculations\n",
        "\n",
        "The ``multiprocessing`` library is designed to create multiple sub-instances of the python interpreter called processes, with each process returning values that are independent of the other processes. In order to coordinate this effort, some computational power must be assigned to send off processes and to retrieve their results upon completion.\n",
        "\n",
        "This \"overhead\" means that parallel processing is not usually justified for very simple problems, and is reserved for computationally intensive problems, or where there are very many processes to be completed in one batch.\n",
        "\n",
        "Given the overhead of parallelization, it is not worthwhile to make a parallel version of our single integral function above. Instead, it IS worthwhile to create a function that can calculate the integral many times in parallel. Like we said above, convergence is noisy, but an average value for each given number of bins should be more stable.\n",
        "\n",
        "Let's see how much time we can save by making a function that will calculate an average value in parallel when compared to a serialized alternative."
      ]
    },
    {
      "cell_type": "code",
      "execution_count": null,
      "metadata": {
        "colab": {
          "base_uri": "https://localhost:8080/"
        },
        "id": "zyVTiYVeg8jc",
        "outputId": "dd12ca30-c0bf-4d1c-c79a-e09296de32de"
      },
      "outputs": [
        {
          "output_type": "execute_result",
          "data": {
            "text/plain": [
              "2"
            ]
          },
          "metadata": {},
          "execution_count": 14
        }
      ],
      "source": [
        "import numpy as np\n",
        "import multiprocessing as mp # This module is part of the\n",
        "\t\t\t     # python standard library\n",
        "import timeit # library for timing execution of code\n",
        "\n",
        "# define any function here!\n",
        "def f(x):\n",
        "    # return the value of the function given x\n",
        "    return 1/(1 + x**2)\n",
        "\n",
        "def integral(nSample, f, xmin, xmax):\n",
        "  # determine points of estimation\n",
        "  sample = np.sort(np.random.uniform(xmin, xmax, nSample))\n",
        "  # Calculate height at each point\n",
        "  value = f(sample)\n",
        "  # Calculate areas, sum\n",
        "  area = np.sum(np.diff(sample) * value[1:])\n",
        "  # Return integral\n",
        "  return (nSample, area)\n",
        "\n",
        "def serial_average(n_bins, n_reps, f, xmin, xmax):\n",
        "  attempts = [integral(n_bins, f, xmin, xmax)[1] for i in range(n_reps)]\n",
        "  return sum(attempts)/n_reps\n",
        "\n",
        "def parallel_average(processes, n_bins, n_reps, f, xmin, xmax):\n",
        "  pool = mp.Pool(processes=processes) # Number of parallel processes we are going to allow\n",
        "  results = [pool.apply_async(integral, (n_bins, f, xmin, xmax)) for i in range(n_reps)] # apply_async passes the values that we want our pooled instances to calculate\n",
        "  results = [p.get()[1] for p in results] # get() fetches the return statement values from each of the processes that we declared in the last line\n",
        "  return sum(results)/n_reps\n",
        "\n",
        "benchmarks = [] # list to store our execution times\n",
        "\n",
        "benchmarks.append(timeit.Timer('serial_average(10000, 100, f, 0, 1)',\n",
        "  'from __main__ import serial_average, integral, f').timeit(number=1))\n",
        "    # Note that we need to include a second line\n",
        "    # that imports our functions from __main__.\n",
        "    # This tells the timer what needs to be IN SCOPE\n",
        "\n",
        "benchmarks.append(timeit.Timer(\n",
        "  'parallel_average(2, 10000, 100, f, 0, 1)',\n",
        "  'from __main__ import parallel_average, integral, f').timeit(\n",
        "    number=1))\n",
        "    # Need to include number of processes\n",
        "    # when timing the parallel implementation\n",
        "\n",
        "mp.cpu_count()"
      ]
    },
    {
      "cell_type": "markdown",
      "metadata": {
        "id": "ZaOnz6BBg8jd"
      },
      "source": [
        "Now let's explore what that function does."
      ]
    },
    {
      "cell_type": "code",
      "execution_count": null,
      "metadata": {
        "id": "oyysVIEPg8jd"
      },
      "outputs": [],
      "source": [
        "def parallel_average(processes, n_bins, n_reps, f, xmin, xmax):\n",
        "  pool = mp.Pool(processes=processes)\n",
        "  ...\n",
        "  return ..."
      ]
    },
    {
      "cell_type": "markdown",
      "metadata": {
        "id": "O3U5o5Ccg8jd"
      },
      "source": [
        "The `mp.Pool` class provides the functionality to organize our processes, and to define the degree to which we want to spread our work across various **processes**. We can specify how many active processes there should be at any time with the number of processes.\n",
        "\n",
        "We need to take care to choose the right number of processes for our machine! In general, my experience has been that performance is best when you keep the number of processes at or below the number of cores available in your computer's processor."
      ]
    },
    {
      "cell_type": "code",
      "execution_count": null,
      "metadata": {
        "id": "3Hb4ULxig8jd"
      },
      "outputs": [],
      "source": [
        "def parallel_average(processes, n_bins, n_reps, f, xmin, xmax):\n",
        "  ...\n",
        "  results = [pool.apply_async(serial_integral, (n_bins, f, xmin, xmax)) for i in range(n_reps)]\n",
        "  ...\n",
        "  return ..."
      ]
    },
    {
      "cell_type": "markdown",
      "metadata": {
        "id": "-siAtYmtg8jd"
      },
      "source": [
        "We next use the `apply_async` method to pass the values that we want our pooled instances to calculate. We need to provide the function to be executed, as well as the arguments for the function in each iteration with each each of the arguments an element in a tuple. In our case, we are not varying the arguments, so we provide a single tuple that never changes, but we could vary those arguments whenever necessary or desirable."
      ]
    },
    {
      "cell_type": "code",
      "execution_count": null,
      "metadata": {
        "id": "PFQhL55og8je"
      },
      "outputs": [],
      "source": [
        "def parallel_average(processes, n_bins, n_reps, f, xmin, xmax):\n",
        "  ...\n",
        "  results = [p.get() for p in results]\n",
        "  ...\n",
        "  return ..."
      ]
    },
    {
      "cell_type": "markdown",
      "metadata": {
        "id": "3r3IDzHng8je"
      },
      "source": [
        "The next step is to use the `get()` method on each element of our returned processes. This will fetch the return statement values from each of the processes that we executed in the last line.\n",
        "\n",
        "At this point the parallel computation is complete. The remainder of the function will look and work just like the results from our `serial_average` method.\n",
        "\n",
        "\n",
        "### Timing it\n",
        "\n",
        "Next, it is time to write code that will allow us to test our parallel and serial performance."
      ]
    },
    {
      "cell_type": "code",
      "execution_count": null,
      "metadata": {
        "id": "dKxebkirg8je"
      },
      "outputs": [],
      "source": [
        "import timeit # library for timing execution of code\n",
        "\n",
        "benchmarks = [] # list to store our execution times\n",
        "\n",
        "benchmarks.append(timeit.Timer('serial_average(10000, 100, f, 0, 1)',\n",
        "  'from __main__ import serial_average, serial_integral, f').timeit(number=1))\n",
        "    # Note that we need to include a second line\n",
        "    # that imports our functions from __main__.\n",
        "    # This tells the timer what needs to be IN SCOPE\n",
        "\n",
        "benchmarks.append(timeit.Timer(\n",
        "  'parallel_average(2, 10000, 100, f, 0, 1)',\n",
        "  'from __main__ import parallel_average, serial_integral, f').timeit(\n",
        "    number=1))\n",
        "    # Need to include number of processes\n",
        "    # when timing the parallel implementation"
      ]
    },
    {
      "cell_type": "markdown",
      "metadata": {
        "id": "GK-RaSOng8je"
      },
      "source": [
        "Amazing! When timing the output on my virtual machine (not at all a powerful computer), the parallel version runs nearly twice as fast (0.36 seconds vs 0.69 seconds). Even in a fairly trivial example, we see significant performance gains.\n",
        "\n",
        "When I ran a similar trial on my computer with 16 cores, I saw the following performance pattern:\n",
        "\n",
        "![w:750](https://github.com/dustywhite7/Econ8320/blob/master/SlidesCode/performance.png?raw=true)\n",
        "\n",
        "On 16 cores, the parallel version of this problem executes over 5x faster than the serial version! Some observations:\n",
        "\n",
        "- This was done on a 16-core processor, which is an expensive way to get a performance gain\n",
        "- Creating too many processes (going past 16 to 32) actually started to slow the computations down\n",
        "- We need to be aware of the hardware that we are utilizing when designing parallel code\n",
        "\n",
        "If you are unsure of how many processes you should run on your machine, the following command will show you how many CPU cores are available to Python:\n",
        "\n",
        "```python\n",
        "mp.cpu_count() # Tells us the number of available CPUs\n",
        "```\n",
        "\n",
        "Now it's your turn to give it a go!\n"
      ]
    },
    {
      "cell_type": "markdown",
      "metadata": {
        "id": "6zvnNrHbg8jf"
      },
      "source": [
        "## Solve-it!\n",
        "\n",
        "Simulate 1,000 draws from a multivariate normal distribution and calculate the average value of the dependent variable, but do it 100 times! This is called \"bootstrapping\" and is a critical process in many statistical models and simulations. Draw from the following equation:\n",
        "\n",
        "$$ y = \\alpha + x_{1} + 2\\cdot x_{2} + \\frac{1}{2}x_{3} + \\epsilon $$\n",
        "\n",
        "where\n",
        "\n",
        "$\\alpha \\sim \\mathcal{N}(15,2)$, $x_1 \\sim \\mathcal{N}(3,5)$,\n",
        "\n",
        "$x_2 \\sim \\mathcal{N}(10,1)$, $x_3 \\sim \\mathcal{N}(8,8)$, and\n",
        "\n",
        "$\\epsilon \\sim \\mathcal{N}(0,1)$\n",
        "\n",
        "$\\mathcal{N}(\\mu, \\sigma)$ represents the Normal distribution with mean $\\mu$ and standard deviation $\\sigma$\n",
        "\n",
        "Write functions to generate all values and calculate . Test and time these draws using serial and parallel programming (2 cores), and report the difference in performance between the two versions.\n",
        "\n",
        "\n",
        "Call your serial function `sCalc`, and your parallel function `pCalc`, store your results from each function as a list, with the lists named `sResults` and `pResults`, respectively.\n",
        "\n",
        "Finally, store the timed values for each run as `sTime` and `pTime`, respectively. All code for this exercise should go in the cell labeled `#si-exercise` below.\n",
        "\n",
        "**NOTE: Because we are running code on a virtual machine, and because the problem is not very computationally intensive, we should not be surprised if the serial version of our code outperforms the parallel version for this assignment.**\n",
        "\n",
        "**OTHER NOTE: Because we need this to run in a reasonable amount of time, we are only running 100 rounds of sampling. Typical bootstrapping procedures default to 10,000 rounds as good practice.**"
      ]
    },
    {
      "cell_type": "code",
      "execution_count": 9,
      "metadata": {
        "id": "y0PBnWChg8jf",
        "colab": {
          "base_uri": "https://localhost:8080/"
        },
        "outputId": "71ae75ed-b400-464f-edb8-27da8f3ce9ec"
      },
      "outputs": [
        {
          "output_type": "stream",
          "name": "stdout",
          "text": [
            "Serial Results: [41.94799167338818, 42.04960686552596, 42.1039256502722, 41.931681129250144, 42.080987862169465, 42.09289109940667, 41.64261834235273, 41.50868796041988, 41.99563407535675, 42.148487835822245, 42.22878159768942, 42.20893137946822, 42.19835245013989, 41.85263294480629, 41.787942169044754, 42.141920223181245, 41.91935022286032, 42.023047006511376, 41.891512478010206, 42.23955178893195, 42.11654698882792, 41.9256141294807, 42.20572505731062, 42.30508005302606, 42.09610135247736, 42.262630714742755, 41.65413900394244, 41.822179680892404, 41.958254178272064, 42.28974255428018, 42.09670934664496, 42.051704964472435, 41.75950516501449, 42.191281667783024, 41.9308646088512, 41.95995865943741, 41.91536326818425, 41.737063148968986, 42.155534174432525, 41.60899565054004, 41.94012438092567, 41.945266608967565, 41.89995676570588, 42.17264856173674, 41.662422707300756, 42.15351840056845, 41.79093155338289, 42.06579779720132, 42.13945043519345, 42.11802085979342, 42.162411853289576, 41.695672119575406, 41.97820407985654, 42.12214784140334, 42.002456306457546, 41.72927961146977, 41.599082019281255, 42.111754693559924, 42.03364358211525, 41.77793196456318, 42.44315859267046, 41.89959603900572, 42.171101661458145, 41.63871937789078, 42.092761904131386, 42.33560578626148, 42.02532817084618, 42.27048628073001, 42.344071726932626, 41.59736403793783, 41.96165552476248, 42.02385987132791, 41.87826160123274, 41.85692704809171, 42.04477501022474, 42.110896823636416, 41.97058521828165, 41.90477882829083, 41.84673550263608, 42.29778774390081, 42.237900408838144, 42.170857699037455, 42.20593280379861, 41.56224179975616, 41.82369187086946, 41.97690852865027, 42.28939749747538, 42.09248738413465, 42.21110701792674, 42.37801383070268, 41.41435890957978, 41.6772014609222, 42.1861405991101, 42.121863340925366, 41.68663420540984, 41.66323016739288, 42.04169578607647, 41.81671203360775, 42.144514413868436, 42.08188442664385]\n",
            "Parallel Results: [41.90875915317675, 41.73223837032649, 41.69060310160267, 42.14301973110682, 42.05353977937839, 42.204907143958685, 41.98159126620317, 41.702674464704145, 42.11393708400698, 41.90875915317675, 42.14966435979892, 41.73223837032649, 41.69060310160267, 42.14301973110682, 42.05353977937839, 42.204907143958685, 41.98159126620317, 41.702674464704145, 42.11393708400698, 42.14966435979892, 42.021486344831295, 42.226846587763724, 42.021486344831295, 42.226846587763724, 41.828665985472085, 42.234428884738435, 41.828665985472085, 41.86792218142119, 42.234428884738435, 41.82763920420176, 41.86792218142119, 41.833366563426566, 42.216890789384024, 41.82763920420176, 41.833366563426566, 42.10098868689533, 42.04914465717057, 41.726650995795445, 41.57583463015473, 42.41184698028364, 41.92585579964626, 42.216890789384024, 42.10098868689533, 41.62552773195421, 42.04914465717057, 41.726650995795445, 41.57583463015473, 42.41184698028364, 41.92585579964626, 41.62552773195421, 41.939320082594016, 42.33051036224538, 41.939320082594016, 42.33051036224538, 42.10231348997348, 42.10231348997348, 42.089481688517886, 42.03595803301336, 41.990579312592295, 41.9016709514105, 42.2015609853413, 41.93535412525006, 42.089481688517886, 42.03595803301336, 41.96851682994444, 42.24033424029165, 42.19385214812857, 42.58188752083116, 41.990579312592295, 41.89536497662107, 41.9016709514105, 41.86132108366964, 42.2015609853413, 42.153770302316794, 41.93535412525006, 41.62239774651799, 41.96851682994444, 42.00636692438085, 42.24033424029165, 42.10622039743194, 42.092195963452134, 42.19385214812857, 42.0483614837057, 42.58188752083116, 42.53918778361781, 41.89536497662107, 41.91839504609122, 41.86132108366964, 42.29589650313063, 42.153770302316794, 41.78283271909283, 41.62239774651799, 42.00636692438085, 42.10622039743194, 42.092195963452134, 42.0483614837057, 42.53918778361781, 41.91839504609122, 42.29589650313063, 42.197683629641624]\n",
            "Serial Time: [0.020734239999910642]\n",
            "Parallel Time: [0.07328864200007956]\n"
          ]
        }
      ],
      "source": [
        "#si-exercise\n",
        "\n",
        "import numpy as np\n",
        "import multiprocessing as mp\n",
        "import timeit\n",
        "\n",
        "sTime = []\n",
        "pTime = []\n",
        "\n",
        "def eq(n_samples):\n",
        "  alpha = np.random.normal(15,2,n_samples)\n",
        "  x1 = np.random.normal(3,5,n_samples)\n",
        "  x2 = np.random.normal(10,1,n_samples)\n",
        "  x3 = np.random.normal(8,8,n_samples)\n",
        "  epsilon = np.random.normal(0,1,n_samples)\n",
        "  y = alpha + x1 + 2 * x2 + (0.5 * x3) + epsilon\n",
        "  return y\n",
        "\n",
        "def sCalc(n_samples, n_reps):\n",
        "  results = []\n",
        "  for _ in range(n_reps):\n",
        "    mean_y = eq(n_samples).mean()\n",
        "    results.append(mean_y)\n",
        "  return results\n",
        "\n",
        "def pCalc(n_samples, n_reps):\n",
        "  results = []\n",
        "  with mp.Pool(processes=2) as pool:\n",
        "    y = [pool.apply_async(eq, (n_samples,)) for _ in range(n_reps)]\n",
        "    mean_y = [p.get().mean() for p in y]\n",
        "    results = mean_y\n",
        "  return results\n",
        "\n",
        "sResults = sCalc(1000, 100)\n",
        "pResults = pCalc(1000, 100)\n",
        "\n",
        "sTime.append(timeit.Timer('sCalc(1000, 100)',\n",
        "    'from __main__ import sCalc, eq').timeit(number=1))\n",
        "\n",
        "pTime.append(timeit.Timer('pCalc(1000, 100)',\n",
        "    'from __main__ import pCalc, eq').timeit(number=1))\n",
        "\n",
        "print(\"Serial Results:\", sResults)\n",
        "print(\"Parallel Results:\", pResults)\n",
        "print(\"Serial Time:\", sTime)\n",
        "print(\"Parallel Time:\", pTime)"
      ]
    }
  ],
  "metadata": {
    "celltoolbar": "Create Assignment",
    "kernelspec": {
      "display_name": "Python 3 (ipykernel)",
      "language": "python",
      "name": "python3"
    },
    "language_info": {
      "codemirror_mode": {
        "name": "ipython",
        "version": 3
      },
      "file_extension": ".py",
      "mimetype": "text/x-python",
      "name": "python",
      "nbconvert_exporter": "python",
      "pygments_lexer": "ipython3",
      "version": "3.9.13"
    },
    "colab": {
      "provenance": []
    }
  },
  "nbformat": 4,
  "nbformat_minor": 0
}